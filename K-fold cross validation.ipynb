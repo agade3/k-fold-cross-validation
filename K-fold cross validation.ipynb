{
 "metadata": {
  "name": "",
  "signature": "sha256:ebe7f4da503c3d8c59f644898483b5c42b3757eb3b6c2e3e0c192618d34991d6"
 },
 "nbformat": 3,
 "nbformat_minor": 0,
 "worksheets": [
  {
   "cells": [
    {
     "cell_type": "code",
     "collapsed": false,
     "input": [
      "import pandas as pd\n",
      "import numpy as np\n",
      "from sklearn.ensemble import RandomForestClassifier\n",
      "from sklearn.grid_search import GridSearchCV\n",
      "from sklearn.cross_validation import train_test_split\n",
      "from sklearn.metrics import roc_auc_score\n",
      "from sklearn.metrics import classification_report\n",
      "from sklearn.metrics import confusion_matrix\n",
      "from sklearn.metrics import accuracy_score\n",
      "from sklearn.metrics import roc_curve\n",
      "import math\n",
      "\n",
      "%pylab inline"
     ],
     "language": "python",
     "metadata": {},
     "outputs": [
      {
       "output_type": "stream",
       "stream": "stdout",
       "text": [
        "Populating the interactive namespace from numpy and matplotlib\n"
       ]
      }
     ],
     "prompt_number": 9
    },
    {
     "cell_type": "code",
     "collapsed": false,
     "input": [
      "data=pd.read_csv(\"breast_cancer.csv\")\n",
      "y = data.pop(\"malignant\")"
     ],
     "language": "python",
     "metadata": {},
     "outputs": [],
     "prompt_number": 10
    },
    {
     "cell_type": "code",
     "collapsed": false,
     "input": [
      "data.head()"
     ],
     "language": "python",
     "metadata": {},
     "outputs": [
      {
       "html": [
        "<div style=\"max-height:1000px;max-width:1500px;overflow:auto;\">\n",
        "<table border=\"1\" class=\"dataframe\">\n",
        "  <thead>\n",
        "    <tr style=\"text-align: right;\">\n",
        "      <th></th>\n",
        "      <th>Unnamed: 0</th>\n",
        "      <th>id number</th>\n",
        "      <th>clump_thickness</th>\n",
        "      <th>uniformity_of_cell_size</th>\n",
        "      <th>uniformity_of_cell_shape</th>\n",
        "      <th>marginal_adhesion</th>\n",
        "      <th>epithelial_cell_size</th>\n",
        "      <th>bare_nuclei</th>\n",
        "      <th>bland_chromatin</th>\n",
        "      <th>normal_nucleoli</th>\n",
        "      <th>mitoses</th>\n",
        "    </tr>\n",
        "  </thead>\n",
        "  <tbody>\n",
        "    <tr>\n",
        "      <th>0</th>\n",
        "      <td> 0</td>\n",
        "      <td> 1000025</td>\n",
        "      <td> 5</td>\n",
        "      <td> 1</td>\n",
        "      <td> 1</td>\n",
        "      <td> 1</td>\n",
        "      <td> 2</td>\n",
        "      <td>  1</td>\n",
        "      <td> 3</td>\n",
        "      <td> 1</td>\n",
        "      <td> 1</td>\n",
        "    </tr>\n",
        "    <tr>\n",
        "      <th>1</th>\n",
        "      <td> 1</td>\n",
        "      <td> 1002945</td>\n",
        "      <td> 5</td>\n",
        "      <td> 4</td>\n",
        "      <td> 4</td>\n",
        "      <td> 5</td>\n",
        "      <td> 7</td>\n",
        "      <td> 10</td>\n",
        "      <td> 3</td>\n",
        "      <td> 2</td>\n",
        "      <td> 1</td>\n",
        "    </tr>\n",
        "    <tr>\n",
        "      <th>2</th>\n",
        "      <td> 2</td>\n",
        "      <td> 1015425</td>\n",
        "      <td> 3</td>\n",
        "      <td> 1</td>\n",
        "      <td> 1</td>\n",
        "      <td> 1</td>\n",
        "      <td> 2</td>\n",
        "      <td>  2</td>\n",
        "      <td> 3</td>\n",
        "      <td> 1</td>\n",
        "      <td> 1</td>\n",
        "    </tr>\n",
        "    <tr>\n",
        "      <th>3</th>\n",
        "      <td> 3</td>\n",
        "      <td> 1016277</td>\n",
        "      <td> 6</td>\n",
        "      <td> 8</td>\n",
        "      <td> 8</td>\n",
        "      <td> 1</td>\n",
        "      <td> 3</td>\n",
        "      <td>  4</td>\n",
        "      <td> 3</td>\n",
        "      <td> 7</td>\n",
        "      <td> 1</td>\n",
        "    </tr>\n",
        "    <tr>\n",
        "      <th>4</th>\n",
        "      <td> 4</td>\n",
        "      <td> 1017023</td>\n",
        "      <td> 4</td>\n",
        "      <td> 1</td>\n",
        "      <td> 1</td>\n",
        "      <td> 3</td>\n",
        "      <td> 2</td>\n",
        "      <td>  1</td>\n",
        "      <td> 3</td>\n",
        "      <td> 1</td>\n",
        "      <td> 1</td>\n",
        "    </tr>\n",
        "  </tbody>\n",
        "</table>\n",
        "</div>"
       ],
       "metadata": {},
       "output_type": "pyout",
       "prompt_number": 11,
       "text": [
        "   Unnamed: 0  id number  clump_thickness  uniformity_of_cell_size  \\\n",
        "0           0    1000025                5                        1   \n",
        "1           1    1002945                5                        4   \n",
        "2           2    1015425                3                        1   \n",
        "3           3    1016277                6                        8   \n",
        "4           4    1017023                4                        1   \n",
        "\n",
        "   uniformity_of_cell_shape  marginal_adhesion  epithelial_cell_size  \\\n",
        "0                         1                  1                     2   \n",
        "1                         4                  5                     7   \n",
        "2                         1                  1                     2   \n",
        "3                         8                  1                     3   \n",
        "4                         1                  3                     2   \n",
        "\n",
        "   bare_nuclei  bland_chromatin  normal_nucleoli  mitoses  \n",
        "0            1                3                1        1  \n",
        "1           10                3                2        1  \n",
        "2            2                3                1        1  \n",
        "3            4                3                7        1  \n",
        "4            1                3                1        1  "
       ]
      }
     ],
     "prompt_number": 11
    },
    {
     "cell_type": "code",
     "collapsed": false,
     "input": [
      "data.drop([\"Unnamed: 0\", \"id number\"], axis=1, inplace=True)"
     ],
     "language": "python",
     "metadata": {},
     "outputs": [],
     "prompt_number": 12
    },
    {
     "cell_type": "code",
     "collapsed": false,
     "input": [
      "categorical_variables = ['marginal_adhesion', 'uniformity_of_cell_size']\n",
      "\n",
      "for variable in categorical_variables:\n",
      "    \n",
      "    dummies = pd.get_dummies(data[variable], prefix=variable)\n",
      "    \n",
      "    data = pd.concat([data, dummies], axis=1)\n",
      "    data.drop([variable], axis=1, inplace=True)"
     ],
     "language": "python",
     "metadata": {},
     "outputs": [],
     "prompt_number": 13
    },
    {
     "cell_type": "code",
     "collapsed": false,
     "input": [
      "X_train, X_test, y_train, y_test = train_test_split(data, y, test_size=.2, random_state=42)"
     ],
     "language": "python",
     "metadata": {},
     "outputs": [],
     "prompt_number": 14
    },
    {
     "cell_type": "code",
     "collapsed": false,
     "input": [
      "n_estimators = [300,400,500]\n",
      "max_features = ['auto', 'sqrt','log2']\n",
      "min_samples_split = [3,5,7]\n",
      "\n",
      "\n",
      "rfc = RandomForestClassifier(n_jobs=1)\n",
      "\n",
      "estimator = GridSearchCV(rfc,\n",
      "                         dict(n_estimators=n_estimators,\n",
      "                              max_features=max_features,\n",
      "                              min_samples_split=min_samples_split\n",
      "                              ), cv=None, n_jobs=-1)"
     ],
     "language": "python",
     "metadata": {},
     "outputs": [],
     "prompt_number": 15
    },
    {
     "cell_type": "code",
     "collapsed": false,
     "input": [
      "estimator.fit(X_train, y_train)"
     ],
     "language": "python",
     "metadata": {},
     "outputs": [
      {
       "metadata": {},
       "output_type": "pyout",
       "prompt_number": 16,
       "text": [
        "GridSearchCV(cv=None,\n",
        "       estimator=RandomForestClassifier(bootstrap=True, compute_importances=None,\n",
        "            criterion='gini', max_depth=None, max_features='auto',\n",
        "            max_leaf_nodes=None, min_density=None, min_samples_leaf=1,\n",
        "            min_samples_split=2, n_estimators=10, n_jobs=1,\n",
        "            oob_score=False, random_state=None, verbose=0),\n",
        "       fit_params={}, iid=True, loss_func=None, n_jobs=-1,\n",
        "       param_grid={'min_samples_split': [3, 5, 7], 'max_features': ['auto', 'sqrt', 'log2'], 'n_estimators': [300, 400, 500]},\n",
        "       pre_dispatch='2*n_jobs', refit=True, score_func=None, scoring=None,\n",
        "       verbose=0)"
       ]
      }
     ],
     "prompt_number": 16
    },
    {
     "cell_type": "code",
     "collapsed": false,
     "input": [
      "estimator.best_estimator_"
     ],
     "language": "python",
     "metadata": {},
     "outputs": [
      {
       "metadata": {},
       "output_type": "pyout",
       "prompt_number": 17,
       "text": [
        "RandomForestClassifier(bootstrap=True, compute_importances=None,\n",
        "            criterion='gini', max_depth=None, max_features='log2',\n",
        "            max_leaf_nodes=None, min_density=None, min_samples_leaf=1,\n",
        "            min_samples_split=3, n_estimators=300, n_jobs=1,\n",
        "            oob_score=False, random_state=None, verbose=0)"
       ]
      }
     ],
     "prompt_number": 17
    },
    {
     "cell_type": "code",
     "collapsed": false,
     "input": [
      "best_rfc = estimator.best_estimator_"
     ],
     "language": "python",
     "metadata": {},
     "outputs": [],
     "prompt_number": 18
    },
    {
     "cell_type": "code",
     "collapsed": false,
     "input": [
      "#Accuracy"
     ],
     "language": "python",
     "metadata": {},
     "outputs": []
    },
    {
     "cell_type": "code",
     "collapsed": false,
     "input": [
      "accuracy = accuracy_score(y_test, best_rfc.predict(X_test))\n",
      "print \"Accuracy: \", accuracy"
     ],
     "language": "python",
     "metadata": {},
     "outputs": [
      {
       "output_type": "stream",
       "stream": "stdout",
       "text": [
        " Accuracy:  0.971428571429\n"
       ]
      }
     ],
     "prompt_number": 20
    },
    {
     "cell_type": "code",
     "collapsed": false,
     "input": [
      "#Precision and Recall"
     ],
     "language": "python",
     "metadata": {},
     "outputs": []
    },
    {
     "cell_type": "code",
     "collapsed": false,
     "input": [
      "print classification_report(y_test, best_rfc.predict(X_test))"
     ],
     "language": "python",
     "metadata": {},
     "outputs": [
      {
       "output_type": "stream",
       "stream": "stdout",
       "text": [
        "             precision    recall  f1-score   support\n",
        "\n",
        "          0       0.98      0.98      0.98        95\n",
        "          1       0.96      0.96      0.96        45\n",
        "\n",
        "avg / total       0.97      0.97      0.97       140\n",
        "\n"
       ]
      }
     ],
     "prompt_number": 21
    },
    {
     "cell_type": "code",
     "collapsed": false,
     "input": [
      "print confusion_matrix(y_test, best_rfc.predict(X_test))"
     ],
     "language": "python",
     "metadata": {},
     "outputs": [
      {
       "output_type": "stream",
       "stream": "stdout",
       "text": [
        "[[93  2]\n",
        " [ 2 43]]\n"
       ]
      }
     ],
     "prompt_number": 22
    },
    {
     "cell_type": "code",
     "collapsed": false,
     "input": [
      "#AUC"
     ],
     "language": "python",
     "metadata": {},
     "outputs": []
    },
    {
     "cell_type": "code",
     "collapsed": false,
     "input": [
      "roc = roc_auc_score(y_test, best_rfc.predict_proba(X_test)[:,1])\n",
      "print \"AUC Score: \", roc"
     ],
     "language": "python",
     "metadata": {},
     "outputs": [
      {
       "output_type": "stream",
       "stream": "stdout",
       "text": [
        "AUC Score:  0.996959064327\n"
       ]
      }
     ],
     "prompt_number": 23
    },
    {
     "cell_type": "code",
     "collapsed": false,
     "input": [
      "fpr, tpr, thresholds = roc_curve(y_test, best_rfc.predict_proba(X_test)[:,1])\n",
      "\n",
      "plt.figure()\n",
      "plt.plot(fpr, tpr, label='ROC curve (area = %0.2f)' % roc)\n",
      "plt.plot([0, 1], [0, 1], 'k--')\n",
      "plt.xlim([0.0, 1.0])\n",
      "plt.ylim([0.0, 1.05])\n",
      "plt.xlabel('False Positive Rate')\n",
      "plt.ylabel('True Positive Rate')\n",
      "plt.title('Receiver operating characteristic example')\n",
      "plt.legend(loc=\"lower right\")\n",
      "plt.show()"
     ],
     "language": "python",
     "metadata": {},
     "outputs": [
      {
       "metadata": {},
       "output_type": "display_data",
       "png": "[encoded data removed]",
       "text": [
        "<matplotlib.figure.Figure at 0x158ea9b0>"
       ]
      }
     ],
     "prompt_number": 24
    },
    {
     "cell_type": "code",
     "collapsed": false,
     "input": [
      "#K-Fold Cross Validation"
     ],
     "language": "python",
     "metadata": {},
     "outputs": []
    },
    {
     "cell_type": "code",
     "collapsed": false,
     "input": [
      "from sklearn import cross_validation\n",
      "scores = cross_validation.cross_val_score(best_rfc, data, y, cv=10)"
     ],
     "language": "python",
     "metadata": {},
     "outputs": [],
     "prompt_number": 25
    },
    {
     "cell_type": "code",
     "collapsed": false,
     "input": [
      "scores"
     ],
     "language": "python",
     "metadata": {},
     "outputs": [
      {
       "metadata": {},
       "output_type": "pyout",
       "prompt_number": 26,
       "text": [
        "array([ 0.91549296,  0.98571429,  0.97142857,  0.91428571,  0.98571429,\n",
        "        0.98571429,  0.95714286,  0.98571429,  0.97101449,  0.98550725])"
       ]
      }
     ],
     "prompt_number": 26
    },
    {
     "cell_type": "code",
     "collapsed": false,
     "input": [
      "mean_score = scores.mean()\n",
      "std_dev = scores.std()\n",
      "std_error = scores.std() / math.sqrt(scores.shape[0])\n",
      "ci =  2.262 * std_error\n",
      "lower_bound = mean_score - ci\n",
      "upper_bound = mean_score + ci\n",
      "\n",
      "print \"Score is %f +/-  %f\" % (mean_score, ci)\n",
      "print '95 percent probability that if this experiment were repeated over and over the average score would be between %f and %f' % (lower_bound, upper_bound)"
     ],
     "language": "python",
     "metadata": {},
     "outputs": [
      {
       "output_type": "stream",
       "stream": "stdout",
       "text": [
        "Score is 0.965773 +/-  0.019317\n",
        "95 percent probability that if this experiment were repeated over and over the average score would be between 0.946456 and 0.985090\n"
       ]
      }
     ],
     "prompt_number": 27
    },
    {
     "cell_type": "code",
     "collapsed": false,
     "input": [
      "### Single hold AUC is 0.99. Average K-Fold CV score AUC is 0.967. And actual AUC is between 0.94 and 0.98"
     ],
     "language": "python",
     "metadata": {},
     "outputs": []
    }
   ],
   "metadata": {}
  }
 ]
}